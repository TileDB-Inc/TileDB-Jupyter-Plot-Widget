{
 "cells": [
  {
   "cell_type": "markdown",
   "metadata": {},
   "source": [
    "# Introduction"
   ]
  },
  {
   "cell_type": "code",
   "execution_count": 5,
   "metadata": {},
   "outputs": [],
   "source": [
    "import tiledb.plot.widget"
   ]
  },
  {
   "cell_type": "code",
   "execution_count": 15,
   "metadata": {},
   "outputs": [
    {
     "data": {
      "application/vnd.jupyter.widget-view+json": {
       "model_id": "3eb01abedd15484ebec22ea0af47da09",
       "version_major": 2,
       "version_minor": 0
      },
      "text/plain": [
       "Visualize(value='{\"nodes\":[\"node_1\",\"node_2\",\"node_4\",\"node_6\",\"node_3\",\"node_5\",\"node_8\",\"node_7\",\"node_9\", \"…"
      ]
     },
     "metadata": {},
     "output_type": "display_data"
    }
   ],
   "source": [
    "mock_data = '{\"nodes\":[\"node_1\",\"node_2\",\"node_4\",\"node_6\",\"node_3\",\"node_5\",\"node_8\",\"node_7\",\"node_9\", \"node_10\", \"node_11\"],\"edges\":[[\"node_10\",\"node_11\"],[\"node_1\",\"node_2\"],[\"node_1\",\"node_4\"],[\"node_1\",\"node_6\"],[\"node_2\",\"node_3\"],[\"node_4\",\"node_7\"],[\"node_4\",\"node_9\"],[\"node_3\",\"node_5\"],[\"node_3\",\"node_8\"]],\"node_details\":{\"node_1\":{\"status\":\"Completed\",\"name\":\"node_1\"},\"node_2\":{\"status\":\"Completed\",\"name\":\"node_2\"},\"node_3\":{\"status\":\"Failed\",\"name\":\"node_3\"},\"node_4\":{\"status\":\"Running\",\"name\":\"node_4\"},\"node_5\":{\"status\":\"Running\",\"name\":\"node_5\"},\"node_6\":{\"status\":\"Not Started\",\"name\":\"node_6\"},\"node_7\":{\"status\":\"Cancelled\",\"name\":\"node_7\"},\"node_8\":{\"status\":\"Not Started\",\"name\":\"node_8\"},\"node_9\":{\"status\":\"Not Started\",\"name\":\"node_9\"}, \"node_10\":{\"status\":\"Running\",\"name\":\"node_10\"}, \"node_11\":{\"status\":\"Not Started\",\"name\":\"node_11\"}}, \"positions\": { \"node_11\": [32, 32], \"node_10\": [32, 230], \"node_9\": [78, 132], \"node_7\": [52, 39], \"node_6\": [178, 232], \"node_5\": [322, 430], \"node_4\": [78, 182], \"node_3\": [12, 230], \"node_8\": [152, 230], \"node_2\": [78, 132], \"node_1\": [34, 319] }}'\n",
    "\n",
    "tiledb.plot.widget.Visualize(data=mock_data)"
   ]
  },
  {
   "cell_type": "code",
   "execution_count": null,
   "metadata": {},
   "outputs": [],
   "source": []
  }
 ],
 "metadata": {
  "kernelspec": {
   "display_name": "Python 3",
   "language": "python",
   "name": "python3"
  },
  "language_info": {
   "codemirror_mode": {
    "name": "ipython",
    "version": 3
   },
   "file_extension": ".py",
   "mimetype": "text/x-python",
   "name": "python",
   "nbconvert_exporter": "python",
   "pygments_lexer": "ipython3",
   "version": "3.8.5"
  }
 },
 "nbformat": 4,
 "nbformat_minor": 4
}
