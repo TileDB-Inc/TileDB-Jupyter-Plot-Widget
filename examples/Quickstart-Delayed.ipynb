{
 "cells": [
  {
   "cell_type": "code",
   "execution_count": 1,
   "metadata": {},
   "outputs": [],
   "source": [
    "# Import base packages\n",
    "import tiledb\n",
    "import tiledb.cloud\n",
    "from tiledb.cloud.compute import Delayed, DelayedSQL, DelayedArrayUDF\n",
    "import numpy"
   ]
  },
  {
   "cell_type": "code",
   "execution_count": 2,
   "metadata": {},
   "outputs": [],
   "source": [
    "x = Delayed(numpy.median)"
   ]
  },
  {
   "cell_type": "code",
   "execution_count": 3,
   "metadata": {},
   "outputs": [
    {
     "data": {
      "text/plain": [
       "<tiledb.cloud.compute.delayed.Delayed at 0x7f53e1fbb450>"
      ]
     },
     "execution_count": 3,
     "metadata": {},
     "output_type": "execute_result"
    }
   ],
   "source": [
    "# You can see the type is now `Delayed`\n",
    "x"
   ]
  },
  {
   "cell_type": "code",
   "execution_count": 15,
   "metadata": {},
   "outputs": [],
   "source": [
    "# A few base functions:\n",
    "import random\n",
    "node_1 = Delayed(numpy.median, local=True, name=\"node_1\")([1, 2, 3])\n",
    "node_2 = Delayed(lambda x: x * 2, local=True, name=\"node_2\")(node_1)\n",
    "node_3 = Delayed(lambda x: x * 2, local=True, name=\"node_3\")(node_2)\n",
    "\n",
    "nodes_by_name= {'node_1': node_1, 'node_2': node_2, 'node_3': node_3}\n",
    "#Function which sleeps for some time so we can see the graph in different states\n",
    "def f():\n",
    "    import time\n",
    "    import random\n",
    "    x = random.randrange(0, 30)\n",
    "    time.sleep(x)\n",
    "    return x\n",
    "\n",
    "# Randomly add 96 other nodes to the graph. All of these will use the sleep function\n",
    "for i in range(4, 600):\n",
    "    name = \"node_{}\".format(i)\n",
    "    node = Delayed(f, local=True, name=name)()\n",
    "    \n",
    "    dep = random.randrange(1, i-1)\n",
    "    # Randomly set dependency on one other node\n",
    "    node_dep = nodes_by_name[\"node_{}\".format(dep)]\n",
    "    # Force the dependency to be set\n",
    "    node.depends_on(node_dep)\n",
    "    \n",
    "    nodes_by_name[name] = node\n"
   ]
  },
  {
   "cell_type": "code",
   "execution_count": 16,
   "metadata": {},
   "outputs": [
    {
     "data": {
      "application/vnd.jupyter.widget-view+json": {
       "model_id": "69d8db113d994acbb5e1f4f692af05ff",
       "version_major": 2,
       "version_minor": 0
      },
      "text/plain": [
       "Visualize(value='{\"nodes\": [\"9468ce91-d15b-4147-874a-ea828578a1c8\", \"6d667b8f-fccf-4eb1-9a4c-ac408906dfae\", \"e…"
      ]
     },
     "metadata": {},
     "output_type": "display_data"
    }
   ],
   "source": [
    "node_1.visualize()"
   ]
  },
  {
   "cell_type": "code",
   "execution_count": 9,
   "metadata": {},
   "outputs": [
    {
     "data": {
      "text/plain": [
       "10"
      ]
     },
     "execution_count": 9,
     "metadata": {},
     "output_type": "execute_result"
    }
   ],
   "source": [
    "node_99 = nodes_by_name[\"node_99\"]\n",
    "node_99.compute()"
   ]
  },
  {
   "cell_type": "code",
   "execution_count": null,
   "metadata": {},
   "outputs": [],
   "source": []
  }
 ],
 "metadata": {
  "kernelspec": {
   "display_name": "Python 3 (ipykernel)",
   "language": "python",
   "name": "python3"
  },
  "language_info": {
   "codemirror_mode": {
    "name": "ipython",
    "version": 3
   },
   "file_extension": ".py",
   "mimetype": "text/x-python",
   "name": "python",
   "nbconvert_exporter": "python",
   "pygments_lexer": "ipython3",
   "version": "3.7.12"
  }
 },
 "nbformat": 4,
 "nbformat_minor": 4
}
